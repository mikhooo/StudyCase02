{
  "nbformat": 4,
  "nbformat_minor": 0,
  "metadata": {
    "colab": {
      "provenance": [],
      "collapsed_sections": [
        "33-BfQ2wHsKt",
        "LoV_rMIQI7VU",
        "ERIgdd-rJ46x",
        "rW-olJs9K0gW",
        "YldZANW1LSnA"
      ]
    },
    "kernelspec": {
      "name": "python3",
      "display_name": "Python 3"
    },
    "language_info": {
      "name": "python"
    }
  },
  "cells": [
    {
      "cell_type": "markdown",
      "source": [
        "##**KELOMPOK K**\n",
        "\n",
        "\n",
        "\n",
        "1.   \n",
        "2.   Auranissa Efrida P (2006571192)\n",
        "3.   \n",
        "4.   Inez Aurellia R (2006571204)\n",
        "5.   Laily Nur Azizah (2006464234)\n",
        "6.\n",
        "7.\n",
        "8.   Yasmin Khairunnisa (2006571091)"
      ],
      "metadata": {
        "id": "8V4cAY3YBQgY"
      }
    },
    {
      "cell_type": "markdown",
      "source": [
        "##**Problem Statement**\n",
        "Cabang sekarang : Jakarta, Depok, Tangerang\n",
        "1. Rencananya MixITup ingin \"scale\" business-nya ke kota lain dan melakukan massive marketing.\n",
        "2. Dapat pendanaan 33 Milyar\n",
        "\n",
        "\n",
        "\n",
        "\n"
      ],
      "metadata": {
        "id": "FPObAxdZB5jM"
      }
    },
    {
      "cell_type": "markdown",
      "source": [
        "##**Data Cleaning and Pre-Processing**"
      ],
      "metadata": {
        "id": "IiatIYwLCsGl"
      }
    },
    {
      "cell_type": "code",
      "source": [
        "#import module yang dibutuhkan\n",
        "import numpy as np, pandas as pd, seaborn as sns\n",
        "import matplotlib.pyplot as plt\n",
        "import scipy.stats as stats"
      ],
      "metadata": {
        "id": "gtdyuyG_Cz64"
      },
      "execution_count": null,
      "outputs": []
    },
    {
      "cell_type": "code",
      "source": [
        "jkt = pd.read"
      ],
      "metadata": {
        "id": "t8tI_Tu29XMB"
      },
      "execution_count": null,
      "outputs": []
    },
    {
      "cell_type": "code",
      "source": [
        "jkt.shape"
      ],
      "metadata": {
        "id": "O9aKw_5IA9_K"
      },
      "execution_count": null,
      "outputs": []
    },
    {
      "cell_type": "code",
      "source": [
        "jkt.info()"
      ],
      "metadata": {
        "id": "mMDUAKuj9evV"
      },
      "execution_count": null,
      "outputs": []
    },
    {
      "cell_type": "code",
      "source": [
        "#Missing values computation\n",
        "data.isnull().sum()\n",
        "\n",
        "#To remove the NA values\n",
        "data = data.dropna()"
      ],
      "metadata": {
        "id": "2Q0T5oWgBiTi"
      },
      "execution_count": null,
      "outputs": []
    },
    {
      "cell_type": "code",
      "source": [
        "jhjhjhjhj"
      ],
      "metadata": {
        "id": "VulIavI1BkWn"
      },
      "execution_count": null,
      "outputs": []
    },
    {
      "cell_type": "markdown",
      "source": [
        "##**Explaratory Data Analysis**"
      ],
      "metadata": {
        "id": "Q0pLEEFa8ztj"
      }
    },
    {
      "cell_type": "code",
      "source": [],
      "metadata": {
        "id": "ua2CG2sS81k4"
      },
      "execution_count": null,
      "outputs": []
    },
    {
      "cell_type": "markdown",
      "source": [
        "##**Costumer Segmentation**"
      ],
      "metadata": {
        "id": "v4xufAcA83HC"
      }
    },
    {
      "cell_type": "code",
      "source": [],
      "metadata": {
        "id": "pNHFcc1P872d"
      },
      "execution_count": null,
      "outputs": []
    },
    {
      "cell_type": "markdown",
      "source": [
        "##**Conclussion**\n",
        "\n",
        "\n",
        "1.   List item\n",
        "2.   List item\n",
        "\n",
        "\n",
        "\n",
        "\n",
        "\n",
        "\n"
      ],
      "metadata": {
        "id": "9OPoZ8VCDWdU"
      }
    }
  ]
}